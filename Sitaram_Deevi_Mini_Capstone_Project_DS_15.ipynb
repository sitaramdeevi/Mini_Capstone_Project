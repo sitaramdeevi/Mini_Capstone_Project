{
  "nbformat": 4,
  "nbformat_minor": 0,
  "metadata": {
    "colab": {
      "name": "Sitaram Deevi_Mini_Capstone_Project_DS-15.ipynb",
      "provenance": [],
      "collapsed_sections": []
    },
    "kernelspec": {
      "name": "python3",
      "display_name": "Python 3"
    },
    "language_info": {
      "name": "python"
    }
  },
  "cells": [
    {
      "cell_type": "markdown",
      "source": [
        "#Introduction :\n"
      ],
      "metadata": {
        "id": "gZcA9I7KxKol"
      }
    },
    {
      "cell_type": "markdown",
      "source": [
        "##The bellow data is about the Telco_customer_churn :\n",
        "Customer churn is one of the most important metrics for a growing business to evaluate. While it's not the happiest measure, it's a number that can give your company the hard truth about its customer retention. It's hard to measure success if you don't measure the inevitable failures too. While you strive for 100% of customers to stick with your company, that's unrealistic. That's where customer churn comes into the picture.\n",
        "\n",
        "\n",
        "Customer churn is the percentage of customers that stopped using your company's product or service during a certain time frame. You can calculate churn rate by dividing the number of customers you lost during that time period say a quarter  by the number of customers you had at the beginning of that time period.\n",
        "\n",
        "## We have to follow the bellow stepsTo  Reduce Customer Churn  :\n",
        "  1. Focus your attention on your best customers.\n",
        "  2. Analyze churn as it occurs.\n",
        "  3. Show your customers that you care.\n",
        "\n",
        "   "
      ],
      "metadata": {
        "id": "AguaOwZFxWjD"
      }
    },
    {
      "cell_type": "code",
      "source": [
        "# Importing the required libraries\n",
        "import pandas as pd\n",
        "import numpy as np\n",
        "import matplotlib.pyplot as plt\n",
        "import seaborn as sns\n",
        "\n",
        "# importing file from a local folder\n",
        "from google.colab import files\n",
        "uploaded = files.upload()"
      ],
      "metadata": {
        "colab": {
          "resources": {
            "http://localhost:8080/nbextensions/google.colab/files.js": {
              "data": "Ly8gQ29weXJpZ2h0IDIwMTcgR29vZ2xlIExMQwovLwovLyBMaWNlbnNlZCB1bmRlciB0aGUgQXBhY2hlIExpY2Vuc2UsIFZlcnNpb24gMi4wICh0aGUgIkxpY2Vuc2UiKTsKLy8geW91IG1heSBub3QgdXNlIHRoaXMgZmlsZSBleGNlcHQgaW4gY29tcGxpYW5jZSB3aXRoIHRoZSBMaWNlbnNlLgovLyBZb3UgbWF5IG9idGFpbiBhIGNvcHkgb2YgdGhlIExpY2Vuc2UgYXQKLy8KLy8gICAgICBodHRwOi8vd3d3LmFwYWNoZS5vcmcvbGljZW5zZXMvTElDRU5TRS0yLjAKLy8KLy8gVW5sZXNzIHJlcXVpcmVkIGJ5IGFwcGxpY2FibGUgbGF3IG9yIGFncmVlZCB0byBpbiB3cml0aW5nLCBzb2Z0d2FyZQovLyBkaXN0cmlidXRlZCB1bmRlciB0aGUgTGljZW5zZSBpcyBkaXN0cmlidXRlZCBvbiBhbiAiQVMgSVMiIEJBU0lTLAovLyBXSVRIT1VUIFdBUlJBTlRJRVMgT1IgQ09ORElUSU9OUyBPRiBBTlkgS0lORCwgZWl0aGVyIGV4cHJlc3Mgb3IgaW1wbGllZC4KLy8gU2VlIHRoZSBMaWNlbnNlIGZvciB0aGUgc3BlY2lmaWMgbGFuZ3VhZ2UgZ292ZXJuaW5nIHBlcm1pc3Npb25zIGFuZAovLyBsaW1pdGF0aW9ucyB1bmRlciB0aGUgTGljZW5zZS4KCi8qKgogKiBAZmlsZW92ZXJ2aWV3IEhlbHBlcnMgZm9yIGdvb2dsZS5jb2xhYiBQeXRob24gbW9kdWxlLgogKi8KKGZ1bmN0aW9uKHNjb3BlKSB7CmZ1bmN0aW9uIHNwYW4odGV4dCwgc3R5bGVBdHRyaWJ1dGVzID0ge30pIHsKICBjb25zdCBlbGVtZW50ID0gZG9jdW1lbnQuY3JlYXRlRWxlbWVudCgnc3BhbicpOwogIGVsZW1lbnQudGV4dENvbnRlbnQgPSB0ZXh0OwogIGZvciAoY29uc3Qga2V5IG9mIE9iamVjdC5rZXlzKHN0eWxlQXR0cmlidXRlcykpIHsKICAgIGVsZW1lbnQuc3R5bGVba2V5XSA9IHN0eWxlQXR0cmlidXRlc1trZXldOwogIH0KICByZXR1cm4gZWxlbWVudDsKfQoKLy8gTWF4IG51bWJlciBvZiBieXRlcyB3aGljaCB3aWxsIGJlIHVwbG9hZGVkIGF0IGEgdGltZS4KY29uc3QgTUFYX1BBWUxPQURfU0laRSA9IDEwMCAqIDEwMjQ7CgpmdW5jdGlvbiBfdXBsb2FkRmlsZXMoaW5wdXRJZCwgb3V0cHV0SWQpIHsKICBjb25zdCBzdGVwcyA9IHVwbG9hZEZpbGVzU3RlcChpbnB1dElkLCBvdXRwdXRJZCk7CiAgY29uc3Qgb3V0cHV0RWxlbWVudCA9IGRvY3VtZW50LmdldEVsZW1lbnRCeUlkKG91dHB1dElkKTsKICAvLyBDYWNoZSBzdGVwcyBvbiB0aGUgb3V0cHV0RWxlbWVudCB0byBtYWtlIGl0IGF2YWlsYWJsZSBmb3IgdGhlIG5leHQgY2FsbAogIC8vIHRvIHVwbG9hZEZpbGVzQ29udGludWUgZnJvbSBQeXRob24uCiAgb3V0cHV0RWxlbWVudC5zdGVwcyA9IHN0ZXBzOwoKICByZXR1cm4gX3VwbG9hZEZpbGVzQ29udGludWUob3V0cHV0SWQpOwp9CgovLyBUaGlzIGlzIHJvdWdobHkgYW4gYXN5bmMgZ2VuZXJhdG9yIChub3Qgc3VwcG9ydGVkIGluIHRoZSBicm93c2VyIHlldCksCi8vIHdoZXJlIHRoZXJlIGFyZSBtdWx0aXBsZSBhc3luY2hyb25vdXMgc3RlcHMgYW5kIHRoZSBQeXRob24gc2lkZSBpcyBnb2luZwovLyB0byBwb2xsIGZvciBjb21wbGV0aW9uIG9mIGVhY2ggc3RlcC4KLy8gVGhpcyB1c2VzIGEgUHJvbWlzZSB0byBibG9jayB0aGUgcHl0aG9uIHNpZGUgb24gY29tcGxldGlvbiBvZiBlYWNoIHN0ZXAsCi8vIHRoZW4gcGFzc2VzIHRoZSByZXN1bHQgb2YgdGhlIHByZXZpb3VzIHN0ZXAgYXMgdGhlIGlucHV0IHRvIHRoZSBuZXh0IHN0ZXAuCmZ1bmN0aW9uIF91cGxvYWRGaWxlc0NvbnRpbnVlKG91dHB1dElkKSB7CiAgY29uc3Qgb3V0cHV0RWxlbWVudCA9IGRvY3VtZW50LmdldEVsZW1lbnRCeUlkKG91dHB1dElkKTsKICBjb25zdCBzdGVwcyA9IG91dHB1dEVsZW1lbnQuc3RlcHM7CgogIGNvbnN0IG5leHQgPSBzdGVwcy5uZXh0KG91dHB1dEVsZW1lbnQubGFzdFByb21pc2VWYWx1ZSk7CiAgcmV0dXJuIFByb21pc2UucmVzb2x2ZShuZXh0LnZhbHVlLnByb21pc2UpLnRoZW4oKHZhbHVlKSA9PiB7CiAgICAvLyBDYWNoZSB0aGUgbGFzdCBwcm9taXNlIHZhbHVlIHRvIG1ha2UgaXQgYXZhaWxhYmxlIHRvIHRoZSBuZXh0CiAgICAvLyBzdGVwIG9mIHRoZSBnZW5lcmF0b3IuCiAgICBvdXRwdXRFbGVtZW50Lmxhc3RQcm9taXNlVmFsdWUgPSB2YWx1ZTsKICAgIHJldHVybiBuZXh0LnZhbHVlLnJlc3BvbnNlOwogIH0pOwp9CgovKioKICogR2VuZXJhdG9yIGZ1bmN0aW9uIHdoaWNoIGlzIGNhbGxlZCBiZXR3ZWVuIGVhY2ggYXN5bmMgc3RlcCBvZiB0aGUgdXBsb2FkCiAqIHByb2Nlc3MuCiAqIEBwYXJhbSB7c3RyaW5nfSBpbnB1dElkIEVsZW1lbnQgSUQgb2YgdGhlIGlucHV0IGZpbGUgcGlja2VyIGVsZW1lbnQuCiAqIEBwYXJhbSB7c3RyaW5nfSBvdXRwdXRJZCBFbGVtZW50IElEIG9mIHRoZSBvdXRwdXQgZGlzcGxheS4KICogQHJldHVybiB7IUl0ZXJhYmxlPCFPYmplY3Q+fSBJdGVyYWJsZSBvZiBuZXh0IHN0ZXBzLgogKi8KZnVuY3Rpb24qIHVwbG9hZEZpbGVzU3RlcChpbnB1dElkLCBvdXRwdXRJZCkgewogIGNvbnN0IGlucHV0RWxlbWVudCA9IGRvY3VtZW50LmdldEVsZW1lbnRCeUlkKGlucHV0SWQpOwogIGlucHV0RWxlbWVudC5kaXNhYmxlZCA9IGZhbHNlOwoKICBjb25zdCBvdXRwdXRFbGVtZW50ID0gZG9jdW1lbnQuZ2V0RWxlbWVudEJ5SWQob3V0cHV0SWQpOwogIG91dHB1dEVsZW1lbnQuaW5uZXJIVE1MID0gJyc7CgogIGNvbnN0IHBpY2tlZFByb21pc2UgPSBuZXcgUHJvbWlzZSgocmVzb2x2ZSkgPT4gewogICAgaW5wdXRFbGVtZW50LmFkZEV2ZW50TGlzdGVuZXIoJ2NoYW5nZScsIChlKSA9PiB7CiAgICAgIHJlc29sdmUoZS50YXJnZXQuZmlsZXMpOwogICAgfSk7CiAgfSk7CgogIGNvbnN0IGNhbmNlbCA9IGRvY3VtZW50LmNyZWF0ZUVsZW1lbnQoJ2J1dHRvbicpOwogIGlucHV0RWxlbWVudC5wYXJlbnRFbGVtZW50LmFwcGVuZENoaWxkKGNhbmNlbCk7CiAgY2FuY2VsLnRleHRDb250ZW50ID0gJ0NhbmNlbCB1cGxvYWQnOwogIGNvbnN0IGNhbmNlbFByb21pc2UgPSBuZXcgUHJvbWlzZSgocmVzb2x2ZSkgPT4gewogICAgY2FuY2VsLm9uY2xpY2sgPSAoKSA9PiB7CiAgICAgIHJlc29sdmUobnVsbCk7CiAgICB9OwogIH0pOwoKICAvLyBXYWl0IGZvciB0aGUgdXNlciB0byBwaWNrIHRoZSBmaWxlcy4KICBjb25zdCBmaWxlcyA9IHlpZWxkIHsKICAgIHByb21pc2U6IFByb21pc2UucmFjZShbcGlja2VkUHJvbWlzZSwgY2FuY2VsUHJvbWlzZV0pLAogICAgcmVzcG9uc2U6IHsKICAgICAgYWN0aW9uOiAnc3RhcnRpbmcnLAogICAgfQogIH07CgogIGNhbmNlbC5yZW1vdmUoKTsKCiAgLy8gRGlzYWJsZSB0aGUgaW5wdXQgZWxlbWVudCBzaW5jZSBmdXJ0aGVyIHBpY2tzIGFyZSBub3QgYWxsb3dlZC4KICBpbnB1dEVsZW1lbnQuZGlzYWJsZWQgPSB0cnVlOwoKICBpZiAoIWZpbGVzKSB7CiAgICByZXR1cm4gewogICAgICByZXNwb25zZTogewogICAgICAgIGFjdGlvbjogJ2NvbXBsZXRlJywKICAgICAgfQogICAgfTsKICB9CgogIGZvciAoY29uc3QgZmlsZSBvZiBmaWxlcykgewogICAgY29uc3QgbGkgPSBkb2N1bWVudC5jcmVhdGVFbGVtZW50KCdsaScpOwogICAgbGkuYXBwZW5kKHNwYW4oZmlsZS5uYW1lLCB7Zm9udFdlaWdodDogJ2JvbGQnfSkpOwogICAgbGkuYXBwZW5kKHNwYW4oCiAgICAgICAgYCgke2ZpbGUudHlwZSB8fCAnbi9hJ30pIC0gJHtmaWxlLnNpemV9IGJ5dGVzLCBgICsKICAgICAgICBgbGFzdCBtb2RpZmllZDogJHsKICAgICAgICAgICAgZmlsZS5sYXN0TW9kaWZpZWREYXRlID8gZmlsZS5sYXN0TW9kaWZpZWREYXRlLnRvTG9jYWxlRGF0ZVN0cmluZygpIDoKICAgICAgICAgICAgICAgICAgICAgICAgICAgICAgICAgICAgJ24vYSd9IC0gYCkpOwogICAgY29uc3QgcGVyY2VudCA9IHNwYW4oJzAlIGRvbmUnKTsKICAgIGxpLmFwcGVuZENoaWxkKHBlcmNlbnQpOwoKICAgIG91dHB1dEVsZW1lbnQuYXBwZW5kQ2hpbGQobGkpOwoKICAgIGNvbnN0IGZpbGVEYXRhUHJvbWlzZSA9IG5ldyBQcm9taXNlKChyZXNvbHZlKSA9PiB7CiAgICAgIGNvbnN0IHJlYWRlciA9IG5ldyBGaWxlUmVhZGVyKCk7CiAgICAgIHJlYWRlci5vbmxvYWQgPSAoZSkgPT4gewogICAgICAgIHJlc29sdmUoZS50YXJnZXQucmVzdWx0KTsKICAgICAgfTsKICAgICAgcmVhZGVyLnJlYWRBc0FycmF5QnVmZmVyKGZpbGUpOwogICAgfSk7CiAgICAvLyBXYWl0IGZvciB0aGUgZGF0YSB0byBiZSByZWFkeS4KICAgIGxldCBmaWxlRGF0YSA9IHlpZWxkIHsKICAgICAgcHJvbWlzZTogZmlsZURhdGFQcm9taXNlLAogICAgICByZXNwb25zZTogewogICAgICAgIGFjdGlvbjogJ2NvbnRpbnVlJywKICAgICAgfQogICAgfTsKCiAgICAvLyBVc2UgYSBjaHVua2VkIHNlbmRpbmcgdG8gYXZvaWQgbWVzc2FnZSBzaXplIGxpbWl0cy4gU2VlIGIvNjIxMTU2NjAuCiAgICBsZXQgcG9zaXRpb24gPSAwOwogICAgZG8gewogICAgICBjb25zdCBsZW5ndGggPSBNYXRoLm1pbihmaWxlRGF0YS5ieXRlTGVuZ3RoIC0gcG9zaXRpb24sIE1BWF9QQVlMT0FEX1NJWkUpOwogICAgICBjb25zdCBjaHVuayA9IG5ldyBVaW50OEFycmF5KGZpbGVEYXRhLCBwb3NpdGlvbiwgbGVuZ3RoKTsKICAgICAgcG9zaXRpb24gKz0gbGVuZ3RoOwoKICAgICAgY29uc3QgYmFzZTY0ID0gYnRvYShTdHJpbmcuZnJvbUNoYXJDb2RlLmFwcGx5KG51bGwsIGNodW5rKSk7CiAgICAgIHlpZWxkIHsKICAgICAgICByZXNwb25zZTogewogICAgICAgICAgYWN0aW9uOiAnYXBwZW5kJywKICAgICAgICAgIGZpbGU6IGZpbGUubmFtZSwKICAgICAgICAgIGRhdGE6IGJhc2U2NCwKICAgICAgICB9LAogICAgICB9OwoKICAgICAgbGV0IHBlcmNlbnREb25lID0gZmlsZURhdGEuYnl0ZUxlbmd0aCA9PT0gMCA/CiAgICAgICAgICAxMDAgOgogICAgICAgICAgTWF0aC5yb3VuZCgocG9zaXRpb24gLyBmaWxlRGF0YS5ieXRlTGVuZ3RoKSAqIDEwMCk7CiAgICAgIHBlcmNlbnQudGV4dENvbnRlbnQgPSBgJHtwZXJjZW50RG9uZX0lIGRvbmVgOwoKICAgIH0gd2hpbGUgKHBvc2l0aW9uIDwgZmlsZURhdGEuYnl0ZUxlbmd0aCk7CiAgfQoKICAvLyBBbGwgZG9uZS4KICB5aWVsZCB7CiAgICByZXNwb25zZTogewogICAgICBhY3Rpb246ICdjb21wbGV0ZScsCiAgICB9CiAgfTsKfQoKc2NvcGUuZ29vZ2xlID0gc2NvcGUuZ29vZ2xlIHx8IHt9OwpzY29wZS5nb29nbGUuY29sYWIgPSBzY29wZS5nb29nbGUuY29sYWIgfHwge307CnNjb3BlLmdvb2dsZS5jb2xhYi5fZmlsZXMgPSB7CiAgX3VwbG9hZEZpbGVzLAogIF91cGxvYWRGaWxlc0NvbnRpbnVlLAp9Owp9KShzZWxmKTsK",
              "ok": true,
              "headers": [
                [
                  "content-type",
                  "application/javascript"
                ]
              ],
              "status": 200,
              "status_text": ""
            }
          },
          "base_uri": "https://localhost:8080/",
          "height": 73
        },
        "id": "SvVpcuE-eG_D",
        "outputId": "ba3c2497-7f8f-494f-b937-7b04311e3b29"
      },
      "execution_count": 2,
      "outputs": [
        {
          "output_type": "display_data",
          "data": {
            "text/plain": [
              "<IPython.core.display.HTML object>"
            ],
            "text/html": [
              "\n",
              "     <input type=\"file\" id=\"files-0377b9f5-97cf-47dd-b531-dd55d59bcf31\" name=\"files[]\" multiple disabled\n",
              "        style=\"border:none\" />\n",
              "     <output id=\"result-0377b9f5-97cf-47dd-b531-dd55d59bcf31\">\n",
              "      Upload widget is only available when the cell has been executed in the\n",
              "      current browser session. Please rerun this cell to enable.\n",
              "      </output>\n",
              "      <script src=\"/nbextensions/google.colab/files.js\"></script> "
            ]
          },
          "metadata": {}
        },
        {
          "output_type": "stream",
          "name": "stdout",
          "text": [
            "Saving Telco_customer_churn.xlsx to Telco_customer_churn.xlsx\n"
          ]
        }
      ]
    },
    {
      "cell_type": "code",
      "source": [
        "Tcc_db = pd.read_excel(\"Telco_customer_churn.xlsx\")  # reading the Telco_customer_churn file\n",
        "Tcc_db"
      ],
      "metadata": {
        "colab": {
          "base_uri": "https://localhost:8080/",
          "height": 748
        },
        "id": "hG6HHv-6ec2_",
        "outputId": "8d00ef54-9b43-41fb-e613-4ba0b4fe6419"
      },
      "execution_count": 40,
      "outputs": [
        {
          "output_type": "execute_result",
          "data": {
            "text/plain": [
              "      CustomerID  Count        Country       State          City  Zip Code  \\\n",
              "0     3668-QPYBK      1  United States  California   Los Angeles     90003   \n",
              "1     9237-HQITU      1  United States  California   Los Angeles     90005   \n",
              "2     9305-CDSKC      1  United States  California   Los Angeles     90006   \n",
              "3     7892-POOKP      1  United States  California   Los Angeles     90010   \n",
              "4     0280-XJGEX      1  United States  California   Los Angeles     90015   \n",
              "...          ...    ...            ...         ...           ...       ...   \n",
              "7038  2569-WGERO      1  United States  California       Landers     92285   \n",
              "7039  6840-RESVB      1  United States  California      Adelanto     92301   \n",
              "7040  2234-XADUH      1  United States  California         Amboy     92304   \n",
              "7041  4801-JZAZL      1  United States  California  Angelus Oaks     92305   \n",
              "7042  3186-AJIEK      1  United States  California  Apple Valley     92308   \n",
              "\n",
              "                    Lat Long   Latitude   Longitude  Gender  ...  \\\n",
              "0     33.964131, -118.272783  33.964131 -118.272783    Male  ...   \n",
              "1      34.059281, -118.30742  34.059281 -118.307420  Female  ...   \n",
              "2     34.048013, -118.293953  34.048013 -118.293953  Female  ...   \n",
              "3     34.062125, -118.315709  34.062125 -118.315709  Female  ...   \n",
              "4     34.039224, -118.266293  34.039224 -118.266293    Male  ...   \n",
              "...                      ...        ...         ...     ...  ...   \n",
              "7038  34.341737, -116.539416  34.341737 -116.539416  Female  ...   \n",
              "7039  34.667815, -117.536183  34.667815 -117.536183    Male  ...   \n",
              "7040  34.559882, -115.637164  34.559882 -115.637164  Female  ...   \n",
              "7041     34.1678, -116.86433  34.167800 -116.864330  Female  ...   \n",
              "7042  34.424926, -117.184503  34.424926 -117.184503    Male  ...   \n",
              "\n",
              "            Contract Paperless Billing             Payment Method  \\\n",
              "0     Month-to-month               Yes               Mailed check   \n",
              "1     Month-to-month               Yes           Electronic check   \n",
              "2     Month-to-month               Yes           Electronic check   \n",
              "3     Month-to-month               Yes           Electronic check   \n",
              "4     Month-to-month               Yes  Bank transfer (automatic)   \n",
              "...              ...               ...                        ...   \n",
              "7038        Two year               Yes  Bank transfer (automatic)   \n",
              "7039        One year               Yes               Mailed check   \n",
              "7040        One year               Yes    Credit card (automatic)   \n",
              "7041  Month-to-month               Yes           Electronic check   \n",
              "7042        Two year               Yes  Bank transfer (automatic)   \n",
              "\n",
              "      Monthly Charges Total Charges Churn Label Churn Value Churn Score  CLTV  \\\n",
              "0               53.85        108.15         Yes           1          86  3239   \n",
              "1               70.70        151.65         Yes           1          67  2701   \n",
              "2               99.65         820.5         Yes           1          86  5372   \n",
              "3              104.80       3046.05         Yes           1          84  5003   \n",
              "4              103.70        5036.3         Yes           1          89  5340   \n",
              "...               ...           ...         ...         ...         ...   ...   \n",
              "7038            21.15        1419.4          No           0          45  5306   \n",
              "7039            84.80        1990.5          No           0          59  2140   \n",
              "7040           103.20        7362.9          No           0          71  5560   \n",
              "7041            29.60        346.45          No           0          59  2793   \n",
              "7042           105.65        6844.5          No           0          38  5097   \n",
              "\n",
              "                       Churn Reason  \n",
              "0      Competitor made better offer  \n",
              "1                             Moved  \n",
              "2                             Moved  \n",
              "3                             Moved  \n",
              "4     Competitor had better devices  \n",
              "...                             ...  \n",
              "7038                            NaN  \n",
              "7039                            NaN  \n",
              "7040                            NaN  \n",
              "7041                            NaN  \n",
              "7042                            NaN  \n",
              "\n",
              "[7043 rows x 33 columns]"
            ],
            "text/html": [
              "\n",
              "  <div id=\"df-2719c281-e20f-4942-be4d-1830f41b6452\">\n",
              "    <div class=\"colab-df-container\">\n",
              "      <div>\n",
              "<style scoped>\n",
              "    .dataframe tbody tr th:only-of-type {\n",
              "        vertical-align: middle;\n",
              "    }\n",
              "\n",
              "    .dataframe tbody tr th {\n",
              "        vertical-align: top;\n",
              "    }\n",
              "\n",
              "    .dataframe thead th {\n",
              "        text-align: right;\n",
              "    }\n",
              "</style>\n",
              "<table border=\"1\" class=\"dataframe\">\n",
              "  <thead>\n",
              "    <tr style=\"text-align: right;\">\n",
              "      <th></th>\n",
              "      <th>CustomerID</th>\n",
              "      <th>Count</th>\n",
              "      <th>Country</th>\n",
              "      <th>State</th>\n",
              "      <th>City</th>\n",
              "      <th>Zip Code</th>\n",
              "      <th>Lat Long</th>\n",
              "      <th>Latitude</th>\n",
              "      <th>Longitude</th>\n",
              "      <th>Gender</th>\n",
              "      <th>...</th>\n",
              "      <th>Contract</th>\n",
              "      <th>Paperless Billing</th>\n",
              "      <th>Payment Method</th>\n",
              "      <th>Monthly Charges</th>\n",
              "      <th>Total Charges</th>\n",
              "      <th>Churn Label</th>\n",
              "      <th>Churn Value</th>\n",
              "      <th>Churn Score</th>\n",
              "      <th>CLTV</th>\n",
              "      <th>Churn Reason</th>\n",
              "    </tr>\n",
              "  </thead>\n",
              "  <tbody>\n",
              "    <tr>\n",
              "      <th>0</th>\n",
              "      <td>3668-QPYBK</td>\n",
              "      <td>1</td>\n",
              "      <td>United States</td>\n",
              "      <td>California</td>\n",
              "      <td>Los Angeles</td>\n",
              "      <td>90003</td>\n",
              "      <td>33.964131, -118.272783</td>\n",
              "      <td>33.964131</td>\n",
              "      <td>-118.272783</td>\n",
              "      <td>Male</td>\n",
              "      <td>...</td>\n",
              "      <td>Month-to-month</td>\n",
              "      <td>Yes</td>\n",
              "      <td>Mailed check</td>\n",
              "      <td>53.85</td>\n",
              "      <td>108.15</td>\n",
              "      <td>Yes</td>\n",
              "      <td>1</td>\n",
              "      <td>86</td>\n",
              "      <td>3239</td>\n",
              "      <td>Competitor made better offer</td>\n",
              "    </tr>\n",
              "    <tr>\n",
              "      <th>1</th>\n",
              "      <td>9237-HQITU</td>\n",
              "      <td>1</td>\n",
              "      <td>United States</td>\n",
              "      <td>California</td>\n",
              "      <td>Los Angeles</td>\n",
              "      <td>90005</td>\n",
              "      <td>34.059281, -118.30742</td>\n",
              "      <td>34.059281</td>\n",
              "      <td>-118.307420</td>\n",
              "      <td>Female</td>\n",
              "      <td>...</td>\n",
              "      <td>Month-to-month</td>\n",
              "      <td>Yes</td>\n",
              "      <td>Electronic check</td>\n",
              "      <td>70.70</td>\n",
              "      <td>151.65</td>\n",
              "      <td>Yes</td>\n",
              "      <td>1</td>\n",
              "      <td>67</td>\n",
              "      <td>2701</td>\n",
              "      <td>Moved</td>\n",
              "    </tr>\n",
              "    <tr>\n",
              "      <th>2</th>\n",
              "      <td>9305-CDSKC</td>\n",
              "      <td>1</td>\n",
              "      <td>United States</td>\n",
              "      <td>California</td>\n",
              "      <td>Los Angeles</td>\n",
              "      <td>90006</td>\n",
              "      <td>34.048013, -118.293953</td>\n",
              "      <td>34.048013</td>\n",
              "      <td>-118.293953</td>\n",
              "      <td>Female</td>\n",
              "      <td>...</td>\n",
              "      <td>Month-to-month</td>\n",
              "      <td>Yes</td>\n",
              "      <td>Electronic check</td>\n",
              "      <td>99.65</td>\n",
              "      <td>820.5</td>\n",
              "      <td>Yes</td>\n",
              "      <td>1</td>\n",
              "      <td>86</td>\n",
              "      <td>5372</td>\n",
              "      <td>Moved</td>\n",
              "    </tr>\n",
              "    <tr>\n",
              "      <th>3</th>\n",
              "      <td>7892-POOKP</td>\n",
              "      <td>1</td>\n",
              "      <td>United States</td>\n",
              "      <td>California</td>\n",
              "      <td>Los Angeles</td>\n",
              "      <td>90010</td>\n",
              "      <td>34.062125, -118.315709</td>\n",
              "      <td>34.062125</td>\n",
              "      <td>-118.315709</td>\n",
              "      <td>Female</td>\n",
              "      <td>...</td>\n",
              "      <td>Month-to-month</td>\n",
              "      <td>Yes</td>\n",
              "      <td>Electronic check</td>\n",
              "      <td>104.80</td>\n",
              "      <td>3046.05</td>\n",
              "      <td>Yes</td>\n",
              "      <td>1</td>\n",
              "      <td>84</td>\n",
              "      <td>5003</td>\n",
              "      <td>Moved</td>\n",
              "    </tr>\n",
              "    <tr>\n",
              "      <th>4</th>\n",
              "      <td>0280-XJGEX</td>\n",
              "      <td>1</td>\n",
              "      <td>United States</td>\n",
              "      <td>California</td>\n",
              "      <td>Los Angeles</td>\n",
              "      <td>90015</td>\n",
              "      <td>34.039224, -118.266293</td>\n",
              "      <td>34.039224</td>\n",
              "      <td>-118.266293</td>\n",
              "      <td>Male</td>\n",
              "      <td>...</td>\n",
              "      <td>Month-to-month</td>\n",
              "      <td>Yes</td>\n",
              "      <td>Bank transfer (automatic)</td>\n",
              "      <td>103.70</td>\n",
              "      <td>5036.3</td>\n",
              "      <td>Yes</td>\n",
              "      <td>1</td>\n",
              "      <td>89</td>\n",
              "      <td>5340</td>\n",
              "      <td>Competitor had better devices</td>\n",
              "    </tr>\n",
              "    <tr>\n",
              "      <th>...</th>\n",
              "      <td>...</td>\n",
              "      <td>...</td>\n",
              "      <td>...</td>\n",
              "      <td>...</td>\n",
              "      <td>...</td>\n",
              "      <td>...</td>\n",
              "      <td>...</td>\n",
              "      <td>...</td>\n",
              "      <td>...</td>\n",
              "      <td>...</td>\n",
              "      <td>...</td>\n",
              "      <td>...</td>\n",
              "      <td>...</td>\n",
              "      <td>...</td>\n",
              "      <td>...</td>\n",
              "      <td>...</td>\n",
              "      <td>...</td>\n",
              "      <td>...</td>\n",
              "      <td>...</td>\n",
              "      <td>...</td>\n",
              "      <td>...</td>\n",
              "    </tr>\n",
              "    <tr>\n",
              "      <th>7038</th>\n",
              "      <td>2569-WGERO</td>\n",
              "      <td>1</td>\n",
              "      <td>United States</td>\n",
              "      <td>California</td>\n",
              "      <td>Landers</td>\n",
              "      <td>92285</td>\n",
              "      <td>34.341737, -116.539416</td>\n",
              "      <td>34.341737</td>\n",
              "      <td>-116.539416</td>\n",
              "      <td>Female</td>\n",
              "      <td>...</td>\n",
              "      <td>Two year</td>\n",
              "      <td>Yes</td>\n",
              "      <td>Bank transfer (automatic)</td>\n",
              "      <td>21.15</td>\n",
              "      <td>1419.4</td>\n",
              "      <td>No</td>\n",
              "      <td>0</td>\n",
              "      <td>45</td>\n",
              "      <td>5306</td>\n",
              "      <td>NaN</td>\n",
              "    </tr>\n",
              "    <tr>\n",
              "      <th>7039</th>\n",
              "      <td>6840-RESVB</td>\n",
              "      <td>1</td>\n",
              "      <td>United States</td>\n",
              "      <td>California</td>\n",
              "      <td>Adelanto</td>\n",
              "      <td>92301</td>\n",
              "      <td>34.667815, -117.536183</td>\n",
              "      <td>34.667815</td>\n",
              "      <td>-117.536183</td>\n",
              "      <td>Male</td>\n",
              "      <td>...</td>\n",
              "      <td>One year</td>\n",
              "      <td>Yes</td>\n",
              "      <td>Mailed check</td>\n",
              "      <td>84.80</td>\n",
              "      <td>1990.5</td>\n",
              "      <td>No</td>\n",
              "      <td>0</td>\n",
              "      <td>59</td>\n",
              "      <td>2140</td>\n",
              "      <td>NaN</td>\n",
              "    </tr>\n",
              "    <tr>\n",
              "      <th>7040</th>\n",
              "      <td>2234-XADUH</td>\n",
              "      <td>1</td>\n",
              "      <td>United States</td>\n",
              "      <td>California</td>\n",
              "      <td>Amboy</td>\n",
              "      <td>92304</td>\n",
              "      <td>34.559882, -115.637164</td>\n",
              "      <td>34.559882</td>\n",
              "      <td>-115.637164</td>\n",
              "      <td>Female</td>\n",
              "      <td>...</td>\n",
              "      <td>One year</td>\n",
              "      <td>Yes</td>\n",
              "      <td>Credit card (automatic)</td>\n",
              "      <td>103.20</td>\n",
              "      <td>7362.9</td>\n",
              "      <td>No</td>\n",
              "      <td>0</td>\n",
              "      <td>71</td>\n",
              "      <td>5560</td>\n",
              "      <td>NaN</td>\n",
              "    </tr>\n",
              "    <tr>\n",
              "      <th>7041</th>\n",
              "      <td>4801-JZAZL</td>\n",
              "      <td>1</td>\n",
              "      <td>United States</td>\n",
              "      <td>California</td>\n",
              "      <td>Angelus Oaks</td>\n",
              "      <td>92305</td>\n",
              "      <td>34.1678, -116.86433</td>\n",
              "      <td>34.167800</td>\n",
              "      <td>-116.864330</td>\n",
              "      <td>Female</td>\n",
              "      <td>...</td>\n",
              "      <td>Month-to-month</td>\n",
              "      <td>Yes</td>\n",
              "      <td>Electronic check</td>\n",
              "      <td>29.60</td>\n",
              "      <td>346.45</td>\n",
              "      <td>No</td>\n",
              "      <td>0</td>\n",
              "      <td>59</td>\n",
              "      <td>2793</td>\n",
              "      <td>NaN</td>\n",
              "    </tr>\n",
              "    <tr>\n",
              "      <th>7042</th>\n",
              "      <td>3186-AJIEK</td>\n",
              "      <td>1</td>\n",
              "      <td>United States</td>\n",
              "      <td>California</td>\n",
              "      <td>Apple Valley</td>\n",
              "      <td>92308</td>\n",
              "      <td>34.424926, -117.184503</td>\n",
              "      <td>34.424926</td>\n",
              "      <td>-117.184503</td>\n",
              "      <td>Male</td>\n",
              "      <td>...</td>\n",
              "      <td>Two year</td>\n",
              "      <td>Yes</td>\n",
              "      <td>Bank transfer (automatic)</td>\n",
              "      <td>105.65</td>\n",
              "      <td>6844.5</td>\n",
              "      <td>No</td>\n",
              "      <td>0</td>\n",
              "      <td>38</td>\n",
              "      <td>5097</td>\n",
              "      <td>NaN</td>\n",
              "    </tr>\n",
              "  </tbody>\n",
              "</table>\n",
              "<p>7043 rows × 33 columns</p>\n",
              "</div>\n",
              "      <button class=\"colab-df-convert\" onclick=\"convertToInteractive('df-2719c281-e20f-4942-be4d-1830f41b6452')\"\n",
              "              title=\"Convert this dataframe to an interactive table.\"\n",
              "              style=\"display:none;\">\n",
              "        \n",
              "  <svg xmlns=\"http://www.w3.org/2000/svg\" height=\"24px\"viewBox=\"0 0 24 24\"\n",
              "       width=\"24px\">\n",
              "    <path d=\"M0 0h24v24H0V0z\" fill=\"none\"/>\n",
              "    <path d=\"M18.56 5.44l.94 2.06.94-2.06 2.06-.94-2.06-.94-.94-2.06-.94 2.06-2.06.94zm-11 1L8.5 8.5l.94-2.06 2.06-.94-2.06-.94L8.5 2.5l-.94 2.06-2.06.94zm10 10l.94 2.06.94-2.06 2.06-.94-2.06-.94-.94-2.06-.94 2.06-2.06.94z\"/><path d=\"M17.41 7.96l-1.37-1.37c-.4-.4-.92-.59-1.43-.59-.52 0-1.04.2-1.43.59L10.3 9.45l-7.72 7.72c-.78.78-.78 2.05 0 2.83L4 21.41c.39.39.9.59 1.41.59.51 0 1.02-.2 1.41-.59l7.78-7.78 2.81-2.81c.8-.78.8-2.07 0-2.86zM5.41 20L4 18.59l7.72-7.72 1.47 1.35L5.41 20z\"/>\n",
              "  </svg>\n",
              "      </button>\n",
              "      \n",
              "  <style>\n",
              "    .colab-df-container {\n",
              "      display:flex;\n",
              "      flex-wrap:wrap;\n",
              "      gap: 12px;\n",
              "    }\n",
              "\n",
              "    .colab-df-convert {\n",
              "      background-color: #E8F0FE;\n",
              "      border: none;\n",
              "      border-radius: 50%;\n",
              "      cursor: pointer;\n",
              "      display: none;\n",
              "      fill: #1967D2;\n",
              "      height: 32px;\n",
              "      padding: 0 0 0 0;\n",
              "      width: 32px;\n",
              "    }\n",
              "\n",
              "    .colab-df-convert:hover {\n",
              "      background-color: #E2EBFA;\n",
              "      box-shadow: 0px 1px 2px rgba(60, 64, 67, 0.3), 0px 1px 3px 1px rgba(60, 64, 67, 0.15);\n",
              "      fill: #174EA6;\n",
              "    }\n",
              "\n",
              "    [theme=dark] .colab-df-convert {\n",
              "      background-color: #3B4455;\n",
              "      fill: #D2E3FC;\n",
              "    }\n",
              "\n",
              "    [theme=dark] .colab-df-convert:hover {\n",
              "      background-color: #434B5C;\n",
              "      box-shadow: 0px 1px 3px 1px rgba(0, 0, 0, 0.15);\n",
              "      filter: drop-shadow(0px 1px 2px rgba(0, 0, 0, 0.3));\n",
              "      fill: #FFFFFF;\n",
              "    }\n",
              "  </style>\n",
              "\n",
              "      <script>\n",
              "        const buttonEl =\n",
              "          document.querySelector('#df-2719c281-e20f-4942-be4d-1830f41b6452 button.colab-df-convert');\n",
              "        buttonEl.style.display =\n",
              "          google.colab.kernel.accessAllowed ? 'block' : 'none';\n",
              "\n",
              "        async function convertToInteractive(key) {\n",
              "          const element = document.querySelector('#df-2719c281-e20f-4942-be4d-1830f41b6452');\n",
              "          const dataTable =\n",
              "            await google.colab.kernel.invokeFunction('convertToInteractive',\n",
              "                                                     [key], {});\n",
              "          if (!dataTable) return;\n",
              "\n",
              "          const docLinkHtml = 'Like what you see? Visit the ' +\n",
              "            '<a target=\"_blank\" href=https://colab.research.google.com/notebooks/data_table.ipynb>data table notebook</a>'\n",
              "            + ' to learn more about interactive tables.';\n",
              "          element.innerHTML = '';\n",
              "          dataTable['output_type'] = 'display_data';\n",
              "          await google.colab.output.renderOutput(dataTable, element);\n",
              "          const docLink = document.createElement('div');\n",
              "          docLink.innerHTML = docLinkHtml;\n",
              "          element.appendChild(docLink);\n",
              "        }\n",
              "      </script>\n",
              "    </div>\n",
              "  </div>\n",
              "  "
            ]
          },
          "metadata": {},
          "execution_count": 40
        }
      ]
    },
    {
      "cell_type": "markdown",
      "source": [
        "#Attributes Analysis :"
      ],
      "metadata": {
        "id": "edg18p9zfWdE"
      }
    },
    {
      "cell_type": "markdown",
      "source": [
        "##Q1: Please read the file and explain data types statistically as well as how python is reading it. Please let us know if any data type is read wrong."
      ],
      "metadata": {
        "id": "HiIsjDolfi5e"
      }
    },
    {
      "cell_type": "markdown",
      "source": [
        "## The above data set is all about the Telco_customer_churn i.e attrition rate of the customers from a company called Telco. And this data set have different columns which gives differenmt values the Data type of each column is as follows\n",
        "\n",
        "CustomerID -  Statistically It is categorical data where as  Python reads it as a string.\n",
        "\n",
        "Count  - Statistically It is Discrete data where as python reads it as an integer.\n",
        "\n",
        "Country, State & City - These are Statistically Nominal where as python reads them as strings.\n",
        "\n",
        "Zip_Code  - Statistically It is Discrete data where as python reads it as string. Even though it has numerical values but zip code is not integer it is a string of integers.\n",
        "\n",
        "Latitude & Longitude - These are stastically Continuous data where as Python reads it as Integers.\n",
        "\n",
        "Gender - Statistically It is Nominal data where as python reads it as string.\n",
        "\n",
        "Senior Citizen, Partner, Dependents, Phone Service, Multiple Lines, Online Security, Online Backup, Device Protection, Tech Support, Streaming TV, Streaming Movies, Paperless Billing, Churn Label, Churn Value - These columns has only 'Yes' or 'No' Values so Statistically we can call them as Nominal data \n",
        "where as python reads it as Boolean data type.\n",
        "\n",
        "Tenure Months - Statistically It is Discrete data where as Python reads it as integer.\n",
        "\n",
        "Internet Service - Statistically It is Categorical data where as python reads it as string.\n",
        "\n",
        "Contract - Statistically It is Categorical data where as python reads it as string.\n",
        "\n",
        "Payment Method - Statistically It is Categorical data where as python reads it as string.\n",
        "\n",
        "Monthly Charges & Total Charges - Statistically These are continuous data where as Python reads it as Float data type.\n",
        "\n",
        "Churn Score, CLTV -  Statistically It is Discrete data where as Python reads it as integer.\n",
        "\n",
        "Churn Reason - Statistically It is Qulitative data where as pythos reads it as string.\n",
        "\n",
        "\n",
        "\n",
        " \n",
        "\n",
        "\n",
        "\n",
        "\n",
        "\n"
      ],
      "metadata": {
        "id": "sEtGMgBsfnie"
      }
    },
    {
      "cell_type": "markdown",
      "source": [
        "## Q2: Please apply appropriate statistical measures using python based on data types."
      ],
      "metadata": {
        "id": "tIwQCiusC_5s"
      }
    },
    {
      "cell_type": "code",
      "source": [
        "Tcc_db.info() # calculating the dttype and null values by using info() function"
      ],
      "metadata": {
        "colab": {
          "base_uri": "https://localhost:8080/"
        },
        "id": "t3P0mnoIVpQP",
        "outputId": "0505bcf7-c695-4bc3-83f2-6f8feabf2762"
      },
      "execution_count": 6,
      "outputs": [
        {
          "output_type": "stream",
          "name": "stdout",
          "text": [
            "<class 'pandas.core.frame.DataFrame'>\n",
            "RangeIndex: 7043 entries, 0 to 7042\n",
            "Data columns (total 33 columns):\n",
            " #   Column             Non-Null Count  Dtype  \n",
            "---  ------             --------------  -----  \n",
            " 0   CustomerID         7043 non-null   object \n",
            " 1   Count              7043 non-null   int64  \n",
            " 2   Country            7043 non-null   object \n",
            " 3   State              7043 non-null   object \n",
            " 4   City               7043 non-null   object \n",
            " 5   Zip Code           7043 non-null   int64  \n",
            " 6   Lat Long           7043 non-null   object \n",
            " 7   Latitude           7043 non-null   float64\n",
            " 8   Longitude          7043 non-null   float64\n",
            " 9   Gender             7043 non-null   object \n",
            " 10  Senior Citizen     7043 non-null   object \n",
            " 11  Partner            7043 non-null   object \n",
            " 12  Dependents         7043 non-null   object \n",
            " 13  Tenure Months      7043 non-null   int64  \n",
            " 14  Phone Service      7043 non-null   object \n",
            " 15  Multiple Lines     7043 non-null   object \n",
            " 16  Internet Service   7043 non-null   object \n",
            " 17  Online Security    7043 non-null   object \n",
            " 18  Online Backup      7043 non-null   object \n",
            " 19  Device Protection  7043 non-null   object \n",
            " 20  Tech Support       7043 non-null   object \n",
            " 21  Streaming TV       7043 non-null   object \n",
            " 22  Streaming Movies   7043 non-null   object \n",
            " 23  Contract           7043 non-null   object \n",
            " 24  Paperless Billing  7043 non-null   object \n",
            " 25  Payment Method     7043 non-null   object \n",
            " 26  Monthly Charges    7043 non-null   float64\n",
            " 27  Total Charges      7043 non-null   object \n",
            " 28  Churn Label        7043 non-null   object \n",
            " 29  Churn Value        7043 non-null   int64  \n",
            " 30  Churn Score        7043 non-null   int64  \n",
            " 31  CLTV               7043 non-null   int64  \n",
            " 32  Churn Reason       1869 non-null   object \n",
            "dtypes: float64(3), int64(6), object(24)\n",
            "memory usage: 1.8+ MB\n"
          ]
        }
      ]
    },
    {
      "cell_type": "markdown",
      "source": [
        "### By using info function we can able to know the datatype of the all columns and by seeing it we can say that python reading some of the data types as wrong so we have to convert some datatypes as for our requirement"
      ],
      "metadata": {
        "id": "fxcCZcA6WMAK"
      }
    },
    {
      "cell_type": "code",
      "source": [
        "# converting some data types\n",
        "Tcc_db['Monthly Charges']=Tcc_db['Monthly Charges'].astype('int64')\n",
        "Tcc_db['Total Charges'] =pd.to_numeric(Tcc_db['Total Charges'],errors='coerce')"
      ],
      "metadata": {
        "id": "kObTMKyHY7V8"
      },
      "execution_count": 49,
      "outputs": []
    },
    {
      "cell_type": "code",
      "source": [
        "# calculating the appropriate statistical measures\n",
        "Tcc_db.describe()"
      ],
      "metadata": {
        "colab": {
          "base_uri": "https://localhost:8080/",
          "height": 300
        },
        "id": "IZoYJgJPaw5C",
        "outputId": "dec19c18-8b8f-43ad-b83f-c2e1bbff4e9b"
      },
      "execution_count": 50,
      "outputs": [
        {
          "output_type": "execute_result",
          "data": {
            "text/plain": [
              "        Count      Zip Code     Latitude    Longitude  Tenure Months  \\\n",
              "count  7043.0   7043.000000  7043.000000  7043.000000    7043.000000   \n",
              "mean      1.0  93521.964646    36.282441  -119.798880      32.371149   \n",
              "std       0.0   1865.794555     2.455723     2.157889      24.559481   \n",
              "min       1.0  90001.000000    32.555828  -124.301372       0.000000   \n",
              "25%       1.0  92102.000000    34.030915  -121.815412       9.000000   \n",
              "50%       1.0  93552.000000    36.391777  -119.730885      29.000000   \n",
              "75%       1.0  95351.000000    38.224869  -118.043237      55.000000   \n",
              "max       1.0  96161.000000    41.962127  -114.192901      72.000000   \n",
              "\n",
              "       Monthly Charges  Total Charges  Churn Value  Churn Score         CLTV  \n",
              "count      7043.000000    7032.000000  7043.000000  7043.000000  7043.000000  \n",
              "mean         64.295897    2283.300441     0.265370    58.699418  4400.295755  \n",
              "std          30.092727    2266.771362     0.441561    21.525131  1183.057152  \n",
              "min          18.000000      18.800000     0.000000     5.000000  2003.000000  \n",
              "25%          35.000000     401.450000     0.000000    40.000000  3469.000000  \n",
              "50%          70.000000    1397.475000     0.000000    61.000000  4527.000000  \n",
              "75%          89.000000    3794.737500     1.000000    75.000000  5380.500000  \n",
              "max         118.000000    8684.800000     1.000000   100.000000  6500.000000  "
            ],
            "text/html": [
              "\n",
              "  <div id=\"df-f6d4170e-291e-4cb5-b82c-561a9345353d\">\n",
              "    <div class=\"colab-df-container\">\n",
              "      <div>\n",
              "<style scoped>\n",
              "    .dataframe tbody tr th:only-of-type {\n",
              "        vertical-align: middle;\n",
              "    }\n",
              "\n",
              "    .dataframe tbody tr th {\n",
              "        vertical-align: top;\n",
              "    }\n",
              "\n",
              "    .dataframe thead th {\n",
              "        text-align: right;\n",
              "    }\n",
              "</style>\n",
              "<table border=\"1\" class=\"dataframe\">\n",
              "  <thead>\n",
              "    <tr style=\"text-align: right;\">\n",
              "      <th></th>\n",
              "      <th>Count</th>\n",
              "      <th>Zip Code</th>\n",
              "      <th>Latitude</th>\n",
              "      <th>Longitude</th>\n",
              "      <th>Tenure Months</th>\n",
              "      <th>Monthly Charges</th>\n",
              "      <th>Total Charges</th>\n",
              "      <th>Churn Value</th>\n",
              "      <th>Churn Score</th>\n",
              "      <th>CLTV</th>\n",
              "    </tr>\n",
              "  </thead>\n",
              "  <tbody>\n",
              "    <tr>\n",
              "      <th>count</th>\n",
              "      <td>7043.0</td>\n",
              "      <td>7043.000000</td>\n",
              "      <td>7043.000000</td>\n",
              "      <td>7043.000000</td>\n",
              "      <td>7043.000000</td>\n",
              "      <td>7043.000000</td>\n",
              "      <td>7032.000000</td>\n",
              "      <td>7043.000000</td>\n",
              "      <td>7043.000000</td>\n",
              "      <td>7043.000000</td>\n",
              "    </tr>\n",
              "    <tr>\n",
              "      <th>mean</th>\n",
              "      <td>1.0</td>\n",
              "      <td>93521.964646</td>\n",
              "      <td>36.282441</td>\n",
              "      <td>-119.798880</td>\n",
              "      <td>32.371149</td>\n",
              "      <td>64.295897</td>\n",
              "      <td>2283.300441</td>\n",
              "      <td>0.265370</td>\n",
              "      <td>58.699418</td>\n",
              "      <td>4400.295755</td>\n",
              "    </tr>\n",
              "    <tr>\n",
              "      <th>std</th>\n",
              "      <td>0.0</td>\n",
              "      <td>1865.794555</td>\n",
              "      <td>2.455723</td>\n",
              "      <td>2.157889</td>\n",
              "      <td>24.559481</td>\n",
              "      <td>30.092727</td>\n",
              "      <td>2266.771362</td>\n",
              "      <td>0.441561</td>\n",
              "      <td>21.525131</td>\n",
              "      <td>1183.057152</td>\n",
              "    </tr>\n",
              "    <tr>\n",
              "      <th>min</th>\n",
              "      <td>1.0</td>\n",
              "      <td>90001.000000</td>\n",
              "      <td>32.555828</td>\n",
              "      <td>-124.301372</td>\n",
              "      <td>0.000000</td>\n",
              "      <td>18.000000</td>\n",
              "      <td>18.800000</td>\n",
              "      <td>0.000000</td>\n",
              "      <td>5.000000</td>\n",
              "      <td>2003.000000</td>\n",
              "    </tr>\n",
              "    <tr>\n",
              "      <th>25%</th>\n",
              "      <td>1.0</td>\n",
              "      <td>92102.000000</td>\n",
              "      <td>34.030915</td>\n",
              "      <td>-121.815412</td>\n",
              "      <td>9.000000</td>\n",
              "      <td>35.000000</td>\n",
              "      <td>401.450000</td>\n",
              "      <td>0.000000</td>\n",
              "      <td>40.000000</td>\n",
              "      <td>3469.000000</td>\n",
              "    </tr>\n",
              "    <tr>\n",
              "      <th>50%</th>\n",
              "      <td>1.0</td>\n",
              "      <td>93552.000000</td>\n",
              "      <td>36.391777</td>\n",
              "      <td>-119.730885</td>\n",
              "      <td>29.000000</td>\n",
              "      <td>70.000000</td>\n",
              "      <td>1397.475000</td>\n",
              "      <td>0.000000</td>\n",
              "      <td>61.000000</td>\n",
              "      <td>4527.000000</td>\n",
              "    </tr>\n",
              "    <tr>\n",
              "      <th>75%</th>\n",
              "      <td>1.0</td>\n",
              "      <td>95351.000000</td>\n",
              "      <td>38.224869</td>\n",
              "      <td>-118.043237</td>\n",
              "      <td>55.000000</td>\n",
              "      <td>89.000000</td>\n",
              "      <td>3794.737500</td>\n",
              "      <td>1.000000</td>\n",
              "      <td>75.000000</td>\n",
              "      <td>5380.500000</td>\n",
              "    </tr>\n",
              "    <tr>\n",
              "      <th>max</th>\n",
              "      <td>1.0</td>\n",
              "      <td>96161.000000</td>\n",
              "      <td>41.962127</td>\n",
              "      <td>-114.192901</td>\n",
              "      <td>72.000000</td>\n",
              "      <td>118.000000</td>\n",
              "      <td>8684.800000</td>\n",
              "      <td>1.000000</td>\n",
              "      <td>100.000000</td>\n",
              "      <td>6500.000000</td>\n",
              "    </tr>\n",
              "  </tbody>\n",
              "</table>\n",
              "</div>\n",
              "      <button class=\"colab-df-convert\" onclick=\"convertToInteractive('df-f6d4170e-291e-4cb5-b82c-561a9345353d')\"\n",
              "              title=\"Convert this dataframe to an interactive table.\"\n",
              "              style=\"display:none;\">\n",
              "        \n",
              "  <svg xmlns=\"http://www.w3.org/2000/svg\" height=\"24px\"viewBox=\"0 0 24 24\"\n",
              "       width=\"24px\">\n",
              "    <path d=\"M0 0h24v24H0V0z\" fill=\"none\"/>\n",
              "    <path d=\"M18.56 5.44l.94 2.06.94-2.06 2.06-.94-2.06-.94-.94-2.06-.94 2.06-2.06.94zm-11 1L8.5 8.5l.94-2.06 2.06-.94-2.06-.94L8.5 2.5l-.94 2.06-2.06.94zm10 10l.94 2.06.94-2.06 2.06-.94-2.06-.94-.94-2.06-.94 2.06-2.06.94z\"/><path d=\"M17.41 7.96l-1.37-1.37c-.4-.4-.92-.59-1.43-.59-.52 0-1.04.2-1.43.59L10.3 9.45l-7.72 7.72c-.78.78-.78 2.05 0 2.83L4 21.41c.39.39.9.59 1.41.59.51 0 1.02-.2 1.41-.59l7.78-7.78 2.81-2.81c.8-.78.8-2.07 0-2.86zM5.41 20L4 18.59l7.72-7.72 1.47 1.35L5.41 20z\"/>\n",
              "  </svg>\n",
              "      </button>\n",
              "      \n",
              "  <style>\n",
              "    .colab-df-container {\n",
              "      display:flex;\n",
              "      flex-wrap:wrap;\n",
              "      gap: 12px;\n",
              "    }\n",
              "\n",
              "    .colab-df-convert {\n",
              "      background-color: #E8F0FE;\n",
              "      border: none;\n",
              "      border-radius: 50%;\n",
              "      cursor: pointer;\n",
              "      display: none;\n",
              "      fill: #1967D2;\n",
              "      height: 32px;\n",
              "      padding: 0 0 0 0;\n",
              "      width: 32px;\n",
              "    }\n",
              "\n",
              "    .colab-df-convert:hover {\n",
              "      background-color: #E2EBFA;\n",
              "      box-shadow: 0px 1px 2px rgba(60, 64, 67, 0.3), 0px 1px 3px 1px rgba(60, 64, 67, 0.15);\n",
              "      fill: #174EA6;\n",
              "    }\n",
              "\n",
              "    [theme=dark] .colab-df-convert {\n",
              "      background-color: #3B4455;\n",
              "      fill: #D2E3FC;\n",
              "    }\n",
              "\n",
              "    [theme=dark] .colab-df-convert:hover {\n",
              "      background-color: #434B5C;\n",
              "      box-shadow: 0px 1px 3px 1px rgba(0, 0, 0, 0.15);\n",
              "      filter: drop-shadow(0px 1px 2px rgba(0, 0, 0, 0.3));\n",
              "      fill: #FFFFFF;\n",
              "    }\n",
              "  </style>\n",
              "\n",
              "      <script>\n",
              "        const buttonEl =\n",
              "          document.querySelector('#df-f6d4170e-291e-4cb5-b82c-561a9345353d button.colab-df-convert');\n",
              "        buttonEl.style.display =\n",
              "          google.colab.kernel.accessAllowed ? 'block' : 'none';\n",
              "\n",
              "        async function convertToInteractive(key) {\n",
              "          const element = document.querySelector('#df-f6d4170e-291e-4cb5-b82c-561a9345353d');\n",
              "          const dataTable =\n",
              "            await google.colab.kernel.invokeFunction('convertToInteractive',\n",
              "                                                     [key], {});\n",
              "          if (!dataTable) return;\n",
              "\n",
              "          const docLinkHtml = 'Like what you see? Visit the ' +\n",
              "            '<a target=\"_blank\" href=https://colab.research.google.com/notebooks/data_table.ipynb>data table notebook</a>'\n",
              "            + ' to learn more about interactive tables.';\n",
              "          element.innerHTML = '';\n",
              "          dataTable['output_type'] = 'display_data';\n",
              "          await google.colab.output.renderOutput(dataTable, element);\n",
              "          const docLink = document.createElement('div');\n",
              "          docLink.innerHTML = docLinkHtml;\n",
              "          element.appendChild(docLink);\n",
              "        }\n",
              "      </script>\n",
              "    </div>\n",
              "  </div>\n",
              "  "
            ]
          },
          "metadata": {},
          "execution_count": 50
        }
      ]
    },
    {
      "cell_type": "code",
      "source": [
        "Tcc_db.median() # calculating the median"
      ],
      "metadata": {
        "colab": {
          "base_uri": "https://localhost:8080/"
        },
        "id": "s4Mic3LsbAi4",
        "outputId": "097e871b-9f5d-4bc3-e928-23d67d3e0689"
      },
      "execution_count": 51,
      "outputs": [
        {
          "output_type": "stream",
          "name": "stderr",
          "text": [
            "/usr/local/lib/python3.7/dist-packages/ipykernel_launcher.py:1: FutureWarning: Dropping of nuisance columns in DataFrame reductions (with 'numeric_only=None') is deprecated; in a future version this will raise TypeError.  Select only valid columns before calling the reduction.\n",
            "  \"\"\"Entry point for launching an IPython kernel.\n"
          ]
        },
        {
          "output_type": "execute_result",
          "data": {
            "text/plain": [
              "Count                  1.000000\n",
              "Zip Code           93552.000000\n",
              "Latitude              36.391777\n",
              "Longitude           -119.730885\n",
              "Tenure Months         29.000000\n",
              "Monthly Charges       70.000000\n",
              "Total Charges       1397.475000\n",
              "Churn Value            0.000000\n",
              "Churn Score           61.000000\n",
              "CLTV                4527.000000\n",
              "dtype: float64"
            ]
          },
          "metadata": {},
          "execution_count": 51
        }
      ]
    },
    {
      "cell_type": "markdown",
      "source": [
        "##Q3: What is the percentage of females and senior citizens in this data set? Please create appropriate plots and explain the plots.\n",
        "\n"
      ],
      "metadata": {
        "id": "V1EeX4-2DC_L"
      }
    },
    {
      "cell_type": "code",
      "source": [
        "# creating PIE chart\n",
        "# Counting total numbers in each category\n",
        "count = Tcc_db['Gender'].value_counts()\n",
        "# Checking the numbers\n",
        "count\n",
        "# Creating categories based on numbers\n",
        "AM = ['male','Female']\n",
        "\n",
        "# Creating plot\n",
        "fig = plt.figure(figsize =(10, 7))\n",
        "# Show plot\n",
        "plt.pie(count, labels = AM,autopct='%1.1f%%',shadow=True, startangle=90)\n",
        "plt.title(\"Pie Chart showing % of Male & Female\")\n",
        "plt.legend()\n",
        "plt.show()"
      ],
      "metadata": {
        "colab": {
          "base_uri": "https://localhost:8080/",
          "height": 427
        },
        "id": "l8z9QCNvmMKD",
        "outputId": "7ffe95ab-68db-4118-f2b4-e659755a81a3"
      },
      "execution_count": 52,
      "outputs": [
        {
          "output_type": "display_data",
          "data": {
            "text/plain": [
              "<Figure size 720x504 with 1 Axes>"
            ],
            "image/png": "[encoded data removed]"
          },
          "metadata": {}
        }
      ]
    },
    {
      "cell_type": "markdown",
      "source": [
        "### Explanation : \n",
        "The above chart clearly showing that the percentage of Male & Female are nearly equal.\n",
        "\n",
        "percentage of male   = 50.5 %\n",
        "\n",
        "percentage of Female = 49.5 %"
      ],
      "metadata": {
        "id": "UTwVsvY_4U7g"
      }
    },
    {
      "cell_type": "code",
      "source": [
        "# creating PIE chart\n",
        "# Counting total numbers in each category\n",
        "count = Tcc_db['Senior Citizen'].value_counts()\n",
        "# Checking the numbers\n",
        "count\n",
        "# Creating categories based on numbers\n",
        "AM = ['No', 'Yes']\n",
        "# Creating plot\n",
        "fig = plt.figure(figsize =(10, 7))\n",
        "# Show plot\n",
        "plt.pie(count, labels = AM,autopct='%1.1f%%',shadow=True, startangle=90)\n",
        "plt.title(\"Pie Chart showing % of senior citizens & non-senior citizens\")\n",
        "plt.legend()\n",
        "plt.show()"
      ],
      "metadata": {
        "colab": {
          "base_uri": "https://localhost:8080/",
          "height": 427
        },
        "id": "3kTGSza_0G5Q",
        "outputId": "26a8cd81-be65-49a6-dfba-f8ae7b5c3216"
      },
      "execution_count": 53,
      "outputs": [
        {
          "output_type": "display_data",
          "data": {
            "text/plain": [
              "<Figure size 720x504 with 1 Axes>"
            ],
            "image/png": "[encoded data removed]"
          },
          "metadata": {}
        }
      ]
    },
    {
      "cell_type": "markdown",
      "source": [
        "### Explanation :\n",
        "By analysing the above chart we can say that there are less number of senior citizens are present in the customers.\n",
        "\n",
        "senior citizens = 16.2 %\n",
        "\n",
        "Non-senior citizen = 83.8 %"
      ],
      "metadata": {
        "id": "sALDS95J6EbN"
      }
    },
    {
      "cell_type": "markdown",
      "source": [
        "## Q4:  Please create an appropriate plot to examine the distribution of the tenure month column and explain the distribution. Based on distribution, perform appropriate statistical measures. Please also explain if the variable is symmetric or skewed. Please calculate it. Explain everything as asked."
      ],
      "metadata": {
        "id": "IXiH9rEU7UM9"
      }
    },
    {
      "cell_type": "code",
      "source": [
        "# Creating a histogram\n",
        "# histogram to see the distribution of numerical data\n",
        "\n",
        "plt.hist(Tcc_db[\"Tenure Months\"],color='#FF2331') \n",
        "plt.title(\"Histogram Plot Demo\") # Giving the title to the plot\n",
        "plt.xlabel(\"Range of values\") # Naming  X-lable\n",
        "plt.ylabel(\"Frequencies\")  # Naming Y-lable\n",
        "plt.grid(False)\n",
        "plt.show()\n"
      ],
      "metadata": {
        "colab": {
          "base_uri": "https://localhost:8080/",
          "height": 295
        },
        "id": "IQKP7e3D7YnO",
        "outputId": "ee1ca6ba-4863-4c1d-8c6b-e7580c400ff4"
      },
      "execution_count": 54,
      "outputs": [
        {
          "output_type": "display_data",
          "data": {
            "text/plain": [
              "<Figure size 432x288 with 1 Axes>"
            ],
            "image/png": "[encoded data removed]"
          },
          "metadata": {
            "needs_background": "light"
          }
        }
      ]
    },
    {
      "cell_type": "markdown",
      "source": [
        "# Explanation :\n",
        "\n",
        "BY analysing the above figure we can say that majority of the customers are Tenure of monthe between \" 1-10 \" Range, and the after that majority of the customers are Tenure of months between \" 65-70 \" Range."
      ],
      "metadata": {
        "id": "Q4-fP1hk5Xug"
      }
    },
    {
      "cell_type": "code",
      "source": [
        "# To analyse the skewness of the variable and for our convinence we can draw the displot \n",
        "sns.displot(Tcc_db, x=\"Tenure Months\", kind=\"kde\") # just adding kde to create a density plot."
      ],
      "metadata": {
        "colab": {
          "base_uri": "https://localhost:8080/",
          "height": 387
        },
        "id": "i-r7NZpc7BLR",
        "outputId": "f2eb76d7-bbd2-49e8-ffeb-cc48934ebf00"
      },
      "execution_count": 55,
      "outputs": [
        {
          "output_type": "execute_result",
          "data": {
            "text/plain": [
              "<seaborn.axisgrid.FacetGrid at 0x7fb903fd0f50>"
            ]
          },
          "metadata": {},
          "execution_count": 55
        },
        {
          "output_type": "display_data",
          "data": {
            "text/plain": [
              "<Figure size 360x360 with 1 Axes>"
            ],
            "image/png": "[encoded data removed]"
          },
          "metadata": {
            "needs_background": "light"
          }
        }
      ]
    },
    {
      "cell_type": "code",
      "source": [
        "print(Tcc_db[\"Tenure Months\"].mean()) # calculating the mean value\n",
        "print(Tcc_db[\"Tenure Months\"].median()) # calculating the median value\n",
        "Tcc_db['Tenure Months'].skew() # calculating the skewness\n"
      ],
      "metadata": {
        "colab": {
          "base_uri": "https://localhost:8080/"
        },
        "id": "WzLk79BQif-s",
        "outputId": "32a7a636-bc5b-44b3-cc19-11e30705d2ea"
      },
      "execution_count": 56,
      "outputs": [
        {
          "output_type": "stream",
          "name": "stdout",
          "text": [
            "32.37114865824223\n",
            "29.0\n"
          ]
        },
        {
          "output_type": "execute_result",
          "data": {
            "text/plain": [
              "0.2395397495619829"
            ]
          },
          "metadata": {},
          "execution_count": 56
        }
      ]
    },
    {
      "cell_type": "markdown",
      "source": [
        "# Explanation :\n",
        "BY calculating the kewness of the \"Tenure Months \" column we got to know that skewness of the columns is lessthan 0.5 if it was between (-0.5 to 0.5 ) the we can say that the data is symetric.\n",
        "so that we can say that the data in the  column \"Tenure Months \" is  symmetric."
      ],
      "metadata": {
        "id": "IPIhF3r77cP1"
      }
    },
    {
      "cell_type": "markdown",
      "source": [
        "## Q5: Please convert all binary columns into 0 and 1 using appropriate programming constructs, not one by one."
      ],
      "metadata": {
        "id": "Mt7xGk8J7Zln"
      }
    },
    {
      "cell_type": "code",
      "source": [
        "dummy = pd.get_dummies(Tcc_db['Gender'],['Senior Citizen'],['Partner'],['Dependents']) # converting binary columns to 0 and 1 in a single program\n",
        "dummy # calling the variable"
      ],
      "metadata": {
        "id": "Qb_LzCoqAav7",
        "colab": {
          "base_uri": "https://localhost:8080/",
          "height": 423
        },
        "outputId": "810c57ff-cb18-454c-c492-97be9c4cf18d"
      },
      "execution_count": 57,
      "outputs": [
        {
          "output_type": "execute_result",
          "data": {
            "text/plain": [
              "      ['Senior Citizen']['Partner']Female  ['Senior Citizen']['Partner']Male  \\\n",
              "0                                       0                                  1   \n",
              "1                                       1                                  0   \n",
              "2                                       1                                  0   \n",
              "3                                       1                                  0   \n",
              "4                                       0                                  1   \n",
              "...                                   ...                                ...   \n",
              "7038                                    1                                  0   \n",
              "7039                                    0                                  1   \n",
              "7040                                    1                                  0   \n",
              "7041                                    1                                  0   \n",
              "7042                                    0                                  1   \n",
              "\n",
              "      ['Senior Citizen']['Partner']nan  \n",
              "0                                    0  \n",
              "1                                    0  \n",
              "2                                    0  \n",
              "3                                    0  \n",
              "4                                    0  \n",
              "...                                ...  \n",
              "7038                                 0  \n",
              "7039                                 0  \n",
              "7040                                 0  \n",
              "7041                                 0  \n",
              "7042                                 0  \n",
              "\n",
              "[7043 rows x 3 columns]"
            ],
            "text/html": [
              "\n",
              "  <div id=\"df-8670c041-d5b6-4c5e-8acb-596c15025a11\">\n",
              "    <div class=\"colab-df-container\">\n",
              "      <div>\n",
              "<style scoped>\n",
              "    .dataframe tbody tr th:only-of-type {\n",
              "        vertical-align: middle;\n",
              "    }\n",
              "\n",
              "    .dataframe tbody tr th {\n",
              "        vertical-align: top;\n",
              "    }\n",
              "\n",
              "    .dataframe thead th {\n",
              "        text-align: right;\n",
              "    }\n",
              "</style>\n",
              "<table border=\"1\" class=\"dataframe\">\n",
              "  <thead>\n",
              "    <tr style=\"text-align: right;\">\n",
              "      <th></th>\n",
              "      <th>['Senior Citizen']['Partner']Female</th>\n",
              "      <th>['Senior Citizen']['Partner']Male</th>\n",
              "      <th>['Senior Citizen']['Partner']nan</th>\n",
              "    </tr>\n",
              "  </thead>\n",
              "  <tbody>\n",
              "    <tr>\n",
              "      <th>0</th>\n",
              "      <td>0</td>\n",
              "      <td>1</td>\n",
              "      <td>0</td>\n",
              "    </tr>\n",
              "    <tr>\n",
              "      <th>1</th>\n",
              "      <td>1</td>\n",
              "      <td>0</td>\n",
              "      <td>0</td>\n",
              "    </tr>\n",
              "    <tr>\n",
              "      <th>2</th>\n",
              "      <td>1</td>\n",
              "      <td>0</td>\n",
              "      <td>0</td>\n",
              "    </tr>\n",
              "    <tr>\n",
              "      <th>3</th>\n",
              "      <td>1</td>\n",
              "      <td>0</td>\n",
              "      <td>0</td>\n",
              "    </tr>\n",
              "    <tr>\n",
              "      <th>4</th>\n",
              "      <td>0</td>\n",
              "      <td>1</td>\n",
              "      <td>0</td>\n",
              "    </tr>\n",
              "    <tr>\n",
              "      <th>...</th>\n",
              "      <td>...</td>\n",
              "      <td>...</td>\n",
              "      <td>...</td>\n",
              "    </tr>\n",
              "    <tr>\n",
              "      <th>7038</th>\n",
              "      <td>1</td>\n",
              "      <td>0</td>\n",
              "      <td>0</td>\n",
              "    </tr>\n",
              "    <tr>\n",
              "      <th>7039</th>\n",
              "      <td>0</td>\n",
              "      <td>1</td>\n",
              "      <td>0</td>\n",
              "    </tr>\n",
              "    <tr>\n",
              "      <th>7040</th>\n",
              "      <td>1</td>\n",
              "      <td>0</td>\n",
              "      <td>0</td>\n",
              "    </tr>\n",
              "    <tr>\n",
              "      <th>7041</th>\n",
              "      <td>1</td>\n",
              "      <td>0</td>\n",
              "      <td>0</td>\n",
              "    </tr>\n",
              "    <tr>\n",
              "      <th>7042</th>\n",
              "      <td>0</td>\n",
              "      <td>1</td>\n",
              "      <td>0</td>\n",
              "    </tr>\n",
              "  </tbody>\n",
              "</table>\n",
              "<p>7043 rows × 3 columns</p>\n",
              "</div>\n",
              "      <button class=\"colab-df-convert\" onclick=\"convertToInteractive('df-8670c041-d5b6-4c5e-8acb-596c15025a11')\"\n",
              "              title=\"Convert this dataframe to an interactive table.\"\n",
              "              style=\"display:none;\">\n",
              "        \n",
              "  <svg xmlns=\"http://www.w3.org/2000/svg\" height=\"24px\"viewBox=\"0 0 24 24\"\n",
              "       width=\"24px\">\n",
              "    <path d=\"M0 0h24v24H0V0z\" fill=\"none\"/>\n",
              "    <path d=\"M18.56 5.44l.94 2.06.94-2.06 2.06-.94-2.06-.94-.94-2.06-.94 2.06-2.06.94zm-11 1L8.5 8.5l.94-2.06 2.06-.94-2.06-.94L8.5 2.5l-.94 2.06-2.06.94zm10 10l.94 2.06.94-2.06 2.06-.94-2.06-.94-.94-2.06-.94 2.06-2.06.94z\"/><path d=\"M17.41 7.96l-1.37-1.37c-.4-.4-.92-.59-1.43-.59-.52 0-1.04.2-1.43.59L10.3 9.45l-7.72 7.72c-.78.78-.78 2.05 0 2.83L4 21.41c.39.39.9.59 1.41.59.51 0 1.02-.2 1.41-.59l7.78-7.78 2.81-2.81c.8-.78.8-2.07 0-2.86zM5.41 20L4 18.59l7.72-7.72 1.47 1.35L5.41 20z\"/>\n",
              "  </svg>\n",
              "      </button>\n",
              "      \n",
              "  <style>\n",
              "    .colab-df-container {\n",
              "      display:flex;\n",
              "      flex-wrap:wrap;\n",
              "      gap: 12px;\n",
              "    }\n",
              "\n",
              "    .colab-df-convert {\n",
              "      background-color: #E8F0FE;\n",
              "      border: none;\n",
              "      border-radius: 50%;\n",
              "      cursor: pointer;\n",
              "      display: none;\n",
              "      fill: #1967D2;\n",
              "      height: 32px;\n",
              "      padding: 0 0 0 0;\n",
              "      width: 32px;\n",
              "    }\n",
              "\n",
              "    .colab-df-convert:hover {\n",
              "      background-color: #E2EBFA;\n",
              "      box-shadow: 0px 1px 2px rgba(60, 64, 67, 0.3), 0px 1px 3px 1px rgba(60, 64, 67, 0.15);\n",
              "      fill: #174EA6;\n",
              "    }\n",
              "\n",
              "    [theme=dark] .colab-df-convert {\n",
              "      background-color: #3B4455;\n",
              "      fill: #D2E3FC;\n",
              "    }\n",
              "\n",
              "    [theme=dark] .colab-df-convert:hover {\n",
              "      background-color: #434B5C;\n",
              "      box-shadow: 0px 1px 3px 1px rgba(0, 0, 0, 0.15);\n",
              "      filter: drop-shadow(0px 1px 2px rgba(0, 0, 0, 0.3));\n",
              "      fill: #FFFFFF;\n",
              "    }\n",
              "  </style>\n",
              "\n",
              "      <script>\n",
              "        const buttonEl =\n",
              "          document.querySelector('#df-8670c041-d5b6-4c5e-8acb-596c15025a11 button.colab-df-convert');\n",
              "        buttonEl.style.display =\n",
              "          google.colab.kernel.accessAllowed ? 'block' : 'none';\n",
              "\n",
              "        async function convertToInteractive(key) {\n",
              "          const element = document.querySelector('#df-8670c041-d5b6-4c5e-8acb-596c15025a11');\n",
              "          const dataTable =\n",
              "            await google.colab.kernel.invokeFunction('convertToInteractive',\n",
              "                                                     [key], {});\n",
              "          if (!dataTable) return;\n",
              "\n",
              "          const docLinkHtml = 'Like what you see? Visit the ' +\n",
              "            '<a target=\"_blank\" href=https://colab.research.google.com/notebooks/data_table.ipynb>data table notebook</a>'\n",
              "            + ' to learn more about interactive tables.';\n",
              "          element.innerHTML = '';\n",
              "          dataTable['output_type'] = 'display_data';\n",
              "          await google.colab.output.renderOutput(dataTable, element);\n",
              "          const docLink = document.createElement('div');\n",
              "          docLink.innerHTML = docLinkHtml;\n",
              "          element.appendChild(docLink);\n",
              "        }\n",
              "      </script>\n",
              "    </div>\n",
              "  </div>\n",
              "  "
            ]
          },
          "metadata": {},
          "execution_count": 57
        }
      ]
    },
    {
      "cell_type": "markdown",
      "source": [
        "# Explanation :\n",
        " There are more binary columns to convert but \" Get_dummies \" will take up to 8 columns only. But the process to convert the all binary columns into 0 and 1 is as done above. "
      ],
      "metadata": {
        "id": "kcky16aA7Znj"
      }
    },
    {
      "cell_type": "markdown",
      "source": [
        "## Q6: Please examine the distribution of monthly charges between males and females using box plots. Please explain the results also. "
      ],
      "metadata": {
        "id": "0s_NtwvqAbTZ"
      }
    },
    {
      "cell_type": "code",
      "source": [
        "# ploating a boxplot to know the distribution of two variables\n",
        "sns.boxplot(x = \"Gender\", y = \"Monthly Charges\",data = Tcc_db)"
      ],
      "metadata": {
        "id": "sJlVOEhsAhb2",
        "colab": {
          "base_uri": "https://localhost:8080/",
          "height": 297
        },
        "outputId": "8d4d8674-87bc-4edd-b34b-8343bf6fe45f"
      },
      "execution_count": 58,
      "outputs": [
        {
          "output_type": "execute_result",
          "data": {
            "text/plain": [
              "<matplotlib.axes._subplots.AxesSubplot at 0x7fb8ff3daf10>"
            ]
          },
          "metadata": {},
          "execution_count": 58
        },
        {
          "output_type": "display_data",
          "data": {
            "text/plain": [
              "<Figure size 432x288 with 1 Axes>"
            ],
            "image/png": "[encoded data removed]"
          },
          "metadata": {
            "needs_background": "light"
          }
        }
      ]
    },
    {
      "cell_type": "markdown",
      "source": [
        "# Explanation :\n",
        "\n",
        "By analysing the above plot we can say that monthly charges for male and female were almost equal. Lowest Monthly charges and Median of Monthly charges were almost equal but there is slight difference in the Highest Monthly charges. The Highest Monthly charges for the Female was a littile bit more when compared to  Male. "
      ],
      "metadata": {
        "id": "8y5OwR5SqyXs"
      }
    },
    {
      "cell_type": "markdown",
      "source": [
        "## Q7: Please find what is the minimum total charges for Los Angeles city. Please find which zip code has the maximum total charges."
      ],
      "metadata": {
        "id": "mVTIeGESAh-8"
      }
    },
    {
      "cell_type": "code",
      "source": [
        "# finding the minimus total charge for Los Angeles city\n",
        "print(Tcc_db[Tcc_db['City']== 'Los Angeles'].min() ['Total Charges'])\n",
        "\n",
        "\n",
        "# finding wcich zipcode has maximum total charge\n",
        "print(Tcc_db['Zip Code'][Tcc_db['Total Charges']==Tcc_db['Total Charges'].max()])\n"
      ],
      "metadata": {
        "id": "FlrCX-HCApYO",
        "colab": {
          "base_uri": "https://localhost:8080/"
        },
        "outputId": "b8aacd2b-8200-4472-cc54-91bd2d937654"
      },
      "execution_count": 59,
      "outputs": [
        {
          "output_type": "stream",
          "name": "stdout",
          "text": [
            "18.8\n",
            "1206    95519\n",
            "Name: Zip Code, dtype: int64\n"
          ]
        },
        {
          "output_type": "stream",
          "name": "stderr",
          "text": [
            "/usr/local/lib/python3.7/dist-packages/ipykernel_launcher.py:2: FutureWarning: Dropping of nuisance columns in DataFrame reductions (with 'numeric_only=None') is deprecated; in a future version this will raise TypeError.  Select only valid columns before calling the reduction.\n",
            "  \n"
          ]
        }
      ]
    },
    {
      "cell_type": "markdown",
      "source": [
        "## Q8: Please find which payment method has the highest churn score and which has the lowest churn score."
      ],
      "metadata": {
        "id": "jUYuyp2OAp_B"
      }
    },
    {
      "cell_type": "code",
      "source": [
        "fig = plt.figure(figsize =(10, 7))\n",
        "sns.boxplot(x = \"Payment Method\", y = \"Churn Score\",data = Tcc_db)"
      ],
      "metadata": {
        "id": "9DFNA7y5AxrW",
        "colab": {
          "base_uri": "https://localhost:8080/",
          "height": 460
        },
        "outputId": "83dfc6dc-6044-477c-ce42-d11a33a74998"
      },
      "execution_count": 60,
      "outputs": [
        {
          "output_type": "execute_result",
          "data": {
            "text/plain": [
              "<matplotlib.axes._subplots.AxesSubplot at 0x7fb8feda2050>"
            ]
          },
          "metadata": {},
          "execution_count": 60
        },
        {
          "output_type": "display_data",
          "data": {
            "text/plain": [
              "<Figure size 720x504 with 1 Axes>"
            ],
            "image/png": "[encoded data removed]"
          },
          "metadata": {
            "needs_background": "light"
          }
        }
      ]
    },
    {
      "cell_type": "markdown",
      "source": [
        "# Explanation :\n",
        "\n",
        "BY analysing the above plot we can say that Electronic check has highest churn chore where as Bank transfer(automatic) has lowest churn score"
      ],
      "metadata": {
        "id": "lOJvHCx9JIzK"
      }
    },
    {
      "cell_type": "markdown",
      "source": [
        "## Q9: Please create an appropriate plot to check the count of payment methods and explain it."
      ],
      "metadata": {
        "id": "kCM2MpPiAyFT"
      }
    },
    {
      "cell_type": "code",
      "source": [
        "# Counting total numbers in each category\n",
        "count = Tcc_db['Payment Method'].value_counts()\n",
        "# Checking the numbers\n",
        "count\n",
        "# Creating categories based on numbers\n",
        "AM = ['Mailed check', 'Electronic check','Bank transfer (automatic)','Credit card (automatic)']\n",
        "# Creating plot\n",
        "fig = plt.figure(figsize=(10,5))\n",
        "plt.bar(AM, count, color=['cyan', 'pink','black','blue'])\n",
        "plt.title(\"Total number of payments done\")\n",
        "plt.xlabel(\"Types of payment Methodes\")\n",
        "plt.ylabel(\"Count\")\n",
        "# show plot\n",
        "plt.show()"
      ],
      "metadata": {
        "id": "JfjKKgFoAzyc",
        "colab": {
          "base_uri": "https://localhost:8080/",
          "height": 350
        },
        "outputId": "1a7ed6a4-df59-4521-a54c-54d59c3ef710"
      },
      "execution_count": 61,
      "outputs": [
        {
          "output_type": "display_data",
          "data": {
            "text/plain": [
              "<Figure size 720x360 with 1 Axes>"
            ],
            "image/png": "[encoded data removed]"
          },
          "metadata": {
            "needs_background": "light"
          }
        }
      ]
    },
    {
      "cell_type": "markdown",
      "source": [
        "# Explanation :\n",
        "\n",
        "By analysing the above figure we can say that most of the customers used the Payment method of mailed check, Where as Electronic check is on the second place and bank transfer & Creditcard are at next these bothe are nearly same."
      ],
      "metadata": {
        "id": "lzwjnP978b6G"
      }
    },
    {
      "cell_type": "markdown",
      "source": [
        "## Q10: Please create an appropriate plot to see the relationship between monthly charges and total charges."
      ],
      "metadata": {
        "id": "2bAcsMA-A0TO"
      }
    },
    {
      "cell_type": "code",
      "source": [
        "# creating a scatter plot\n",
        "\n",
        "sns.scatterplot(x='Monthly Charges', y='Total Charges', data=Tcc_db)"
      ],
      "metadata": {
        "id": "rqgkQdtDIhNU",
        "colab": {
          "base_uri": "https://localhost:8080/",
          "height": 297
        },
        "outputId": "8662e1b9-53ee-4b30-fe83-27519167bdf4"
      },
      "execution_count": 62,
      "outputs": [
        {
          "output_type": "execute_result",
          "data": {
            "text/plain": [
              "<matplotlib.axes._subplots.AxesSubplot at 0x7fb8feeb7610>"
            ]
          },
          "metadata": {},
          "execution_count": 62
        },
        {
          "output_type": "display_data",
          "data": {
            "text/plain": [
              "<Figure size 432x288 with 1 Axes>"
            ],
            "image/png": "[encoded data removed]"
          },
          "metadata": {
            "needs_background": "light"
          }
        }
      ]
    },
    {
      "cell_type": "markdown",
      "source": [
        "#Explanation :\n",
        " By analysing the above figure we can say that Monthly charges and Total charges are proportional to each other i.e if the value of monthly charge was increasing then the value of Total charges will also be increased."
      ],
      "metadata": {
        "id": "KC1yflE2CgvJ"
      }
    },
    {
      "cell_type": "markdown",
      "source": [
        "# conclusion :"
      ],
      "metadata": {
        "id": "D1lWV-HLeRih"
      }
    },
    {
      "cell_type": "markdown",
      "source": [
        "BY analysing the above data we can say that.. \n",
        "\n",
        "\n",
        "1) The number of male and female customers are approximately equal and young customers are more when compared to the old customers.\n",
        "\n",
        "2) Lot of customers are left the service because of the \"Attitude of support person\" so the company has to work on it.\n",
        "\n",
        "3) Now a days majjority of customers are willing to use online payments so that here also lot of customers are intrested on using \" mailed check \" and \" Electronic check \""
      ],
      "metadata": {
        "id": "AZg7O03AeUxl"
      }
    }
  ]
}